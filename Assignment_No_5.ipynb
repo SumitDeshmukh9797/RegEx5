{
  "nbformat": 4,
  "nbformat_minor": 0,
  "metadata": {
    "colab": {
      "name": "Assignment No 5.ipynb",
      "provenance": []
    },
    "kernelspec": {
      "name": "python3",
      "display_name": "Python 3"
    },
    "language_info": {
      "name": "python"
    }
  },
  "cells": [
    {
      "cell_type": "markdown",
      "metadata": {
        "id": "KvzsEbEszaGU"
      },
      "source": [
        "#Task 5\n",
        "\n",
        "**Registration/Referral id : SIRSS2234\n",
        "Full name : Sumit Deshmukh**"
      ]
    },
    {
      "cell_type": "markdown",
      "metadata": {
        "id": "Fq_rEnTNzwtU"
      },
      "source": [
        "**Q1. Given a list of integers, write a function to return the sum of all prime numbers in that list.**"
      ]
    },
    {
      "cell_type": "code",
      "metadata": {
        "id": "2O0QhVSUzy0E"
      },
      "source": [
        "def add(l):\n",
        "  sum = 0\n",
        "  a = []\n",
        "  for i in l:\n",
        "    if l[i] > 1:\n",
        "      if all(l[i] % j != 0 for j in range(2, int(l[i]**0.5)+1)):\n",
        "        sum = sum + l[i]\n",
        "        a.append(l[i])\n",
        "    else:\n",
        "      continue\n",
        "  print(f\"List of prime numbers is {a}\")\n",
        "  return sum\n",
        "\n",
        "if __name__ == \"__main__\":\n",
        "  l = range(0,101)\n",
        "  print(f\"The sum of all prime numbers in given list is {add(l)}\")"
      ],
      "execution_count": null,
      "outputs": []
    },
    {
      "cell_type": "markdown",
      "metadata": {
        "id": "QTVSwQylz5pM"
      },
      "source": [
        "**Q2. Given a list of integers, write a function to check whether the list is strictly increasing or not.**"
      ]
    },
    {
      "cell_type": "code",
      "metadata": {
        "id": "DWbEQ39uz8zt"
      },
      "source": [
        "def check(l):\n",
        "  if (len(l) > 1):\n",
        "    return all(i < j for i, j in zip(l, l[1:]))\n",
        "  # else :\n",
        "  #   return \"We can't comment on singel element or on null list..!!\"\n",
        "\n",
        "if __name__ == \"__main__\":\n",
        "  l = [15,10,9,6,7]\n",
        "  print(f\"Given list is strictly increasing if it is True else it is False \\n{check(l)}\")"
      ],
      "execution_count": null,
      "outputs": []
    },
    {
      "cell_type": "markdown",
      "metadata": {
        "id": "Leh6W3JN0CnE"
      },
      "source": [
        "**Q3. Write a function to check whether a given list is expanding or not (the difference between adjacent elements should keep on increasing).**"
      ]
    },
    {
      "cell_type": "code",
      "metadata": {
        "id": "uNB1VaRG0FpM"
      },
      "source": [
        "def checkExpanding(l):\n",
        "  if all(((l[i+2]-l[i+1])>(l[i+1]-l[i])) for i in range(0,len(l)-2)):\n",
        "    return \"List is expanding\" # try [1,4,8,13]\n",
        "  elif all(((l[i+2]-l[i+1]) == (l[i+1]-l[i])) for i in range(0,len(l)-2)):\n",
        "    return \"(the difference between adjacent elements is equal\" #Try [1,4,7,10]\n",
        "  else:\n",
        "    return \"List is not expanding\"\n",
        "\n",
        "if __name__ == \"__main__\":\n",
        "  print(checkExpanding([1,4,8,13]))"
      ],
      "execution_count": null,
      "outputs": []
    },
    {
      "cell_type": "markdown",
      "metadata": {
        "id": "LjjF_-xU0IkM"
      },
      "source": [
        "**Q4. Write a function to calculate all permutations of a given string. (Without using itertools)**"
      ]
    },
    {
      "cell_type": "code",
      "metadata": {
        "id": "bKVlMXkS0NaU"
      },
      "source": [
        "def String(List):\n",
        "    return ''.join(List)\n",
        "\n",
        "def permutations(p, q, r):\n",
        "    if q==r:\n",
        "        print (String(p))\n",
        "    else:\n",
        "        for i in range (q,r+1):\n",
        "            p[q], p[i] = p[i], p[q]\n",
        "            permutations(p, q+1, r)\n",
        "            p[q], p[i] = p[i], p[q] \n",
        "\n",
        "\n",
        "given_string = \"SUMIT\"\n",
        "n = len(given_string)\n",
        "p = list(given_string)\n",
        "permutations(p, 0, n-1)"
      ],
      "execution_count": null,
      "outputs": []
    }
  ]
}